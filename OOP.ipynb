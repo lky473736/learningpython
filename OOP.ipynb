{
  "cells": [
    {
      "cell_type": "markdown",
      "metadata": {
        "id": "bg5ZXMV2sn1M"
      },
      "source": [
        "# 객체와 클래스\n",
        "\n",
        "2023.12.10. 학습, 2023.12.23. 완료  \n",
        "임규연 (lky473736) - 파이썬 OOP 심화"
      ]
    },
    {
      "cell_type": "markdown",
      "metadata": {
        "id": "Lj_iZPKnCRP0"
      },
      "source": [
        "\n",
        "\n",
        "---\n",
        "\n"
      ]
    },
    {
      "cell_type": "markdown",
      "metadata": {
        "id": "zXbENjlMCrkU"
      },
      "source": [
        "## 객체(Object)\n",
        "\n",
        "- 객체 : 파이썬 내 모든 것은 객체 중심\n",
        "- 객체의 속성을 이루는 데이터 + 그 데이터의 조작방법에 대한 내용도 포함되어 있음\n",
        "- 속성과 기능을 가지고 있음  \n",
        "\n",
        "> 객체의 구조는 '객체의 이름 - 속성 - 매소드'"
      ]
    },
    {
      "cell_type": "markdown",
      "metadata": {
        "id": "41GeF0a5KMPU"
      },
      "source": [
        "### 객체 지향 프로그래밍(Object Oriented Programming)\n",
        "\n",
        "- 객체 개념을 다루는 것이 객체 지향\n",
        "- 프로그램을 단순히 데이터와 처리 방법으로 나누지 않고, 프로그램을 수많은 객체라는 단위로 구분\n",
        "- 객체들끼리 상호작용하여 데이터 처리 가능"
      ]
    },
    {
      "cell_type": "markdown",
      "metadata": {
        "id": "qQc_0nwV1YyE"
      },
      "source": [
        "## 클래스(Class)\n",
        "\n",
        "- 객체의 구성 요소를 담는 개념\n",
        "- 여러 개의 속성과 매소드를 포함\n",
        "- 실제 생성된 객체 == **인스턴스**\n",
        "- 인스턴스는 메모리에 할당된 객체를 의미\n",
        "\n",
        "\n",
        "> class name(object) :  \n",
        "\n",
        "1) class : 클래스 정의\n",
        "2) name : 클래스 명\n",
        "3) object : 상속받는 객체명"
      ]
    },
    {
      "cell_type": "markdown",
      "metadata": {
        "id": "u91KX7n6K1Qx"
      },
      "source": [
        "### Book 클래스 정의\n",
        "\n",
        "* 클래스 이름: Book\n",
        "* 속성\n",
        "  + 저자: author\n",
        "  + 책 이름: name\n",
        "  + 출판사: publisher\n",
        "  + 발행일: date\n",
        "\n"
      ]
    },
    {
      "cell_type": "code",
      "execution_count": 1,
      "metadata": {
        "id": "VIauKM25w6Aw"
      },
      "outputs": [],
      "source": [
        "class Book(object) : # Book 클래스 정의\n",
        "    author = \"\" # 클래스 속성\n",
        "    title = \"\"\n",
        "    publisher = \"\"\n",
        "    date = \"\""
      ]
    },
    {
      "cell_type": "code",
      "execution_count": 4,
      "metadata": {
        "id": "oboUm_0ZmkwC"
      },
      "outputs": [
        {
          "name": "stdout",
          "output_type": "stream",
          "text": [
            "lky daramji hamster 2023-12-23\n"
          ]
        }
      ],
      "source": [
        "book = Book() # book : 인스턴스\n",
        "book.author = \"lky\" # book이라는 인스턴스에 포함되어 있는 클래스 속성에 대입\n",
        "book.title = \"daramji\"\n",
        "book.publisher = \"hamster\"\n",
        "book.date = \"2023-12-23\"\n",
        "\n",
        "print (book.author, book.title, book.publisher, book.date)"
      ]
    },
    {
      "cell_type": "markdown",
      "metadata": {
        "id": "b0ybpBx4B-NI"
      },
      "source": [
        "### Book 클래스 메소드 정의\n",
        "\n",
        "* 메소드\n",
        "  + 책 정보 출력: `print_info(self)`\n",
        "  + `self`가 있어야만 실제로 인스턴스가 사용할 수 있는 메소드로 선언\n",
        "  + `print_info(self)`에서 `self`는 실제적으로 `book` 인스턴스를 의미"
      ]
    },
    {
      "cell_type": "code",
      "execution_count": 9,
      "metadata": {
        "id": "bvq4rgKACKGh"
      },
      "outputs": [],
      "source": [
        "class Book(object) : # Book 클래스 정의\n",
        "    author = \"\" # 클래스 속성\n",
        "    title = \"\"\n",
        "    publisher = \"\"\n",
        "    date = \"\"\n",
        "    \n",
        "    def print_info (self) : \n",
        "        # 여기서 self는 인스턴스를 의미\n",
        "        print (self.author, self.title, self.publisher, self.date)\n",
        "        \n",
        "    def no_attribute (self) :\n",
        "        print (\"there is no attribute\")  "
      ]
    },
    {
      "cell_type": "code",
      "execution_count": 10,
      "metadata": {
        "id": "QLYRU__lmoQx"
      },
      "outputs": [
        {
          "name": "stdout",
          "output_type": "stream",
          "text": [
            "lky daramji hamster 2023-12-23\n",
            "there is no attribute\n"
          ]
        }
      ],
      "source": [
        "book = Book() # book : 인스턴스\n",
        "book.author = \"lky\" # book이라는 인스턴스에 포함되어 있는 클래스 속성에 대입\n",
        "book.title = \"daramji\"\n",
        "book.publisher = \"hamster\"\n",
        "book.date = \"2023-12-23\"\n",
        "\n",
        "book.print_info()\n",
        "book.no_attribute()"
      ]
    },
    {
      "cell_type": "markdown",
      "metadata": {
        "id": "8x-oWtbBxCpE"
      },
      "source": [
        "## 인스턴스 속성(Instance Attribute)\n",
        "\n",
        "* 인스턴스 속성은 객체로부터 인스턴스가 생성된 후에 인스턴스에서 활용하는 속성\n",
        "\n",
        "\n"
      ]
    },
    {
      "cell_type": "markdown",
      "metadata": {
        "id": "GbFr5qM78B41"
      },
      "source": [
        "### Book 인스턴스 속성\n",
        "\n",
        "* `Book` 클래스에서 생성된 인스턴스 `b1`에서 속성을 활용"
      ]
    },
    {
      "cell_type": "code",
      "execution_count": 12,
      "metadata": {
        "id": "A25zZg3vjmk0"
      },
      "outputs": [],
      "source": [
        "class Book(object) : # Book 클래스 정의\n",
        "    author = \"\" # 클래스 속성\n",
        "    title = \"\"\n",
        "    publisher = \"\"\n",
        "    date = \"\"\n",
        "    \n",
        "    def print_info (self) : \n",
        "        # 여기서 self는 인스턴스를 의미\n",
        "        print (self.author, self.title, self.publisher, self.date)"
      ]
    },
    {
      "cell_type": "code",
      "execution_count": 13,
      "metadata": {
        "id": "h-Ja0er-oZpe"
      },
      "outputs": [
        {
          "name": "stdout",
          "output_type": "stream",
          "text": [
            "lky daramji hamster 2023-12-23\n"
          ]
        }
      ],
      "source": [
        "b1 = Book() \n",
        "b1.author = \"lky\" # 인스턴스 생성 후에 대입\n",
        "b1.title = \"daramji\"\n",
        "b1.publisher = \"hamster\"\n",
        "b1.date = \"2023-12-23\"\n",
        "\n",
        "b1.print_info()"
      ]
    },
    {
      "cell_type": "markdown",
      "metadata": {
        "id": "QJg6wYdSHKFh"
      },
      "source": [
        "## 클래스 속성(Class Attribute)\n",
        "\n",
        "* 클래스 속성은 클래스 자체에서 사용되는 속성\n",
        "\n",
        "\n"
      ]
    },
    {
      "cell_type": "markdown",
      "metadata": {
        "id": "vCwxB_lyIv5D"
      },
      "source": [
        "### Book 클래스 속성\n",
        "\n",
        "* Book 클래스 자체에서 사용되는 속성"
      ]
    },
    {
      "cell_type": "code",
      "execution_count": null,
      "metadata": {
        "id": "YH4BbYHookXd"
      },
      "outputs": [],
      "source": [
        "class Book(object) : # Book 클래스 정의\n",
        "    author = \"\" # 클래스 속성\n",
        "    title = \"\"\n",
        "    publisher = \"\"\n",
        "    date = \"\"\n",
        "    \n",
        "    def print_info (self) : \n",
        "        # 여기서 self는 인스턴스를 의미\n",
        "        print (self.author, self.title, self.publisher, self.date)"
      ]
    },
    {
      "cell_type": "code",
      "execution_count": 14,
      "metadata": {
        "id": "YBLwbRcrogBc"
      },
      "outputs": [
        {
          "name": "stdout",
          "output_type": "stream",
          "text": [
            "lky daramji hamster 2023-12-23\n"
          ]
        }
      ],
      "source": [
        "b1 = Book() \n",
        "Book.author = \"lky\" # 클래스 자체에서 사용되는 속성\n",
        "Book.title = \"daramji\"\n",
        "Book.publisher = \"hamster\"\n",
        "Book.date = \"2023-12-23\"\n",
        "\n",
        "b1.print_info()"
      ]
    },
    {
      "cell_type": "markdown",
      "metadata": {
        "id": "5rb7_sHfotYO"
      },
      "source": [
        "## 인스턴스 속성와 클래스 속성의 활용\n",
        "\n",
        "* 인스턴스 속성과 클래스 속성을 목적에 맞도록 나누어서 활용\n",
        "* **인스턴스 속성과 클래스 속성은 정의하기 나름임**\n",
        "\n"
      ]
    },
    {
      "cell_type": "markdown",
      "metadata": {
        "id": "jp55uMrGpYsv"
      },
      "source": [
        "### Book 인스턴스 속성과 클래스 속성\n",
        "\n",
        "* 인스턴스 속성\n",
        "  + 저자: author\n",
        "  + 제목: title\n",
        "  + 출판사: publisher\n",
        "  + 발행일: date\n",
        "* 클래스 속성\n",
        "  + 수량: count"
      ]
    },
    {
      "cell_type": "code",
      "execution_count": null,
      "metadata": {
        "id": "6FJ2zFwepLrv"
      },
      "outputs": [],
      "source": [
        "class Book(object) : # Book 클래스 정의\n",
        "    author = \"\" # 인스턴스 속성 (아직 미지정되어, 인스턴스 생성 후에 정의될 변수들)\n",
        "    title = \"\"\n",
        "    publisher = \"\"\n",
        "    date = \"\"\n",
        "    \n",
        "    count = 0 # 클래스 속성\n",
        "    \n",
        "    def print_info (self) : \n",
        "        # 여기서 self는 인스턴스를 의미\n",
        "        print (self.author, self.title, self.publisher, self.date)"
      ]
    },
    {
      "cell_type": "code",
      "execution_count": 15,
      "metadata": {
        "id": "QidaPjC2pthz"
      },
      "outputs": [
        {
          "name": "stdout",
          "output_type": "stream",
          "text": [
            "lky daramji hamster 2023-12-23\n",
            "3\n"
          ]
        }
      ],
      "source": [
        "b1 = Book() \n",
        "\n",
        "Book.count = 3 # 클래스 속성\n",
        "\n",
        "b1.author = \"lky\" # 인스턴스 속성\n",
        "b1.title = \"daramji\"\n",
        "b1.publisher = \"hamster\"\n",
        "b1.date = \"2023-12-23\"\n",
        "\n",
        "b1.print_info()\n",
        "print (Book.count)"
      ]
    },
    {
      "cell_type": "markdown",
      "metadata": {
        "id": "wfmzBAGRBtWi"
      },
      "source": [
        "## 클래스 매직 메소드(Class Masic Methods)\n",
        "\n",
        "* '_'를 2개 붙여서 매직 메소드 또는 속성에 사용 가능\n",
        "* __을 속성 앞에 붙이면 가시성을 위한 속성으로 사용 (정보은닉)"
      ]
    },
    {
      "cell_type": "markdown",
      "metadata": {
        "id": "EZwYD92qt4gh"
      },
      "source": [
        "### `__init__()`\n",
        "\n",
        "* `__init__()` 메소드를 이용하여 클래스의 속성들을 초기화\n",
        "* 초기화해야하는 속성을 한번에 실행 가능"
      ]
    },
    {
      "cell_type": "code",
      "execution_count": 25,
      "metadata": {
        "id": "_nq6-s-qBwio"
      },
      "outputs": [],
      "source": [
        "class Book(object) :\n",
        "    count = 0\n",
        "    \n",
        "    def __init__ (self, author, title, publisher, date) :\n",
        "        # 인스턴스 변수를 선언하는 역할을 담당\n",
        "        # 인스턴스 변수에 argument로 초기화 \n",
        "        self.author = author\n",
        "        self.title = title \n",
        "        self.publisher = publisher\n",
        "        self.date = date\n",
        "        \n",
        "        Book.count += 1 # class가 실행이 될 때마다 count가 늠\n",
        "        \n",
        "    def print_info (self) : \n",
        "        # 여기서 self는 인스턴스를 의미\n",
        "        print (self.author, self.title, self.publisher, self.date)"
      ]
    },
    {
      "cell_type": "code",
      "execution_count": 27,
      "metadata": {
        "id": "oQknTy7Mul4a"
      },
      "outputs": [
        {
          "name": "stdout",
          "output_type": "stream",
          "text": [
            "4\n",
            "lky daramji hamster 2023\n",
            "dedenne jungitype pokemon 2023\n"
          ]
        }
      ],
      "source": [
        "b1 = Book(\"lky\", \"daramji\", \"hamster\", \"2023\")\n",
        "b2 = Book(\"dedenne\", \"jungitype\", \"pokemon\", \"2023\")\n",
        "\n",
        "print (Book.count) \n",
        "b1.print_info()\n",
        "b2.print_info()"
      ]
    },
    {
      "cell_type": "markdown",
      "metadata": {
        "id": "gTRPQI5cu_vU"
      },
      "source": [
        "### `__str__()`\n",
        "\n",
        "* `__str__()` 메소드를 이용하여 인스턴스 출력\n",
        "* print (인스턴스) 할 때 사용\n",
        "* `__str__()` 끝에는 return문 사용"
      ]
    },
    {
      "cell_type": "code",
      "execution_count": 29,
      "metadata": {
        "id": "QYd5z8z2vIq2"
      },
      "outputs": [],
      "source": [
        "class Book(object) :\n",
        "    count = 0\n",
        "    \n",
        "    def __init__ (self, author, title, publisher, date) :\n",
        "        # 인스턴스 변수를 선언하는 역할을 담당\n",
        "        # 인스턴스 변수에 argument로 초기화 \n",
        "        self.author = author\n",
        "        self.title = title \n",
        "        self.publisher = publisher\n",
        "        self.date = date\n",
        "        \n",
        "        Book.count += 1 # class가 실행이 될 때마다 count가 늠\n",
        "        \n",
        "    def __str__ (self) : \n",
        "        return \"You print the instance!\"\n",
        "        \n",
        "    def print_info (self) : \n",
        "        # 여기서 self는 인스턴스를 의미\n",
        "        print (self.author, self.title, self.publisher, self.date)"
      ]
    },
    {
      "cell_type": "code",
      "execution_count": 30,
      "metadata": {
        "id": "eECQWpfkvimX"
      },
      "outputs": [
        {
          "name": "stdout",
          "output_type": "stream",
          "text": [
            "You print the instance!\n"
          ]
        }
      ],
      "source": [
        "b1 = Book(\"lky\", \"daramji\", \"hamster\", \"2023\")\n",
        "print (b1)"
      ]
    },
    {
      "cell_type": "markdown",
      "metadata": {
        "id": "400E5EtqwBq3"
      },
      "source": [
        "### 매직 메소드 예제\n",
        "\n",
        "* Line 클래스"
      ]
    },
    {
      "cell_type": "code",
      "execution_count": 41,
      "metadata": {
        "id": "XFXm9WwCwcUD"
      },
      "outputs": [],
      "source": [
        "class Line(object) : \n",
        "    length = 0\n",
        "    \n",
        "    def __init__ (self, length) : \n",
        "        self.length = length\n",
        "        print (self.length, \"길이 생성됨\") # init은 인스턴스가 생성 시에 작동하는 함수니깐 블록에 있는 명령문들이 실행됨\n",
        "        \n",
        "    def __del__ (self) : # 인스턴스를 제거할 때 \n",
        "        print (self.length, \"제거\")\n",
        "        \n",
        "    def __repr__ (self) : # __repr__ == __str__\n",
        "        return str(self.length)\n",
        "    \n",
        "    def __add__ (self, other) : # 인스턴스끼리 덧셈이 일어났을 때\n",
        "        return self.length + other.length\n",
        "    \n",
        "    def __lt__ (self, other) : # less than\n",
        "        return self.length  < other.length\n",
        "    \n",
        "    def __gt__ (self, other) : # greater than\n",
        "        return self.length > other.length"
      ]
    },
    {
      "cell_type": "code",
      "execution_count": 48,
      "metadata": {
        "id": "nFThopZjxPRK"
      },
      "outputs": [
        {
          "name": "stdout",
          "output_type": "stream",
          "text": [
            "1 길이 생성됨\n",
            "line1의 길이 :  1\n",
            "2 길이 생성됨\n",
            "line2의 길이 :  2\n",
            "선의 합 :  3\n",
            "line1 < line2 :  True\n",
            "line1 > line2 :  False\n",
            "1 제거\n",
            "2 제거\n"
          ]
        }
      ],
      "source": [
        "line1 = Line(1)\n",
        "print (\"line1의 길이 : \", line1) # __repr__로 인하여 각자의 길이가 출력\n",
        "\n",
        "line2 = Line(2)\n",
        "print (\"line2의 길이 : \", line2) \n",
        "\n",
        "print (\"선의 합 : \", line1 + line2) # __add__로 인하여 합이 출력\n",
        "\n",
        "print (\"line1 < line2 : \", line1 < line2) # __lt__\n",
        "print (\"line1 > line2 : \", line1 > line2) # __gt__\n",
        "\n",
        "del(line1) # __del__\n",
        "del(line2)"
      ]
    },
    {
      "cell_type": "markdown",
      "metadata": {
        "id": "7rnSGoFCxvKK"
      },
      "source": [
        "### 가시성 예제\n",
        "\n",
        "* `__items` 속성은 Box 객체 외부에서 보이지 않도록 캡슐화와 정보 은닉이 가능\n",
        "* 외부에서 `__items` 속성에 접근하면 속성 오류 발생"
      ]
    },
    {
      "cell_type": "code",
      "execution_count": 54,
      "metadata": {
        "id": "DTrIbq53x3ZI"
      },
      "outputs": [],
      "source": [
        "class Box (object) :\n",
        "    def __init__(self, name) :\n",
        "        self.name = name\n",
        "        self.__items = [] # 외부에서 접근 불가능\n",
        "        \n",
        "        print (\"박스 이름 : \", self.name)\n",
        "        \n",
        "    def add_item (self, item) :\n",
        "        self.__items.append (item)\n",
        "        print (self.name + \"에 아이템 추가 (근데 못봄)\")\n",
        "        \n",
        "    def get_num_of_items (self) :\n",
        "        return len(self.__items)"
      ]
    },
    {
      "cell_type": "code",
      "execution_count": 56,
      "metadata": {
        "id": "AU5wHppgyLbh"
      },
      "outputs": [
        {
          "name": "stdout",
          "output_type": "stream",
          "text": [
            "박스 이름 :  boxname\n",
            "boxname에 아이템 추가 (근데 못봄)\n",
            "boxname에 아이템 추가 (근데 못봄)\n",
            "boxname에 아이템 추가 (근데 못봄)\n",
            "boxname에 아이템 추가 (근데 못봄)\n",
            "boxname에 아이템 추가 (근데 못봄)\n",
            "현재 boxname에 있는 물건 숫자 :  5\n"
          ]
        }
      ],
      "source": [
        "box = Box(\"boxname\")\n",
        "# print (box.__items) <-- 캡슐화땜에 못봄\n",
        "\n",
        "box.add_item(\"daramji\")\n",
        "box.add_item(\"ya-ong-ee\")\n",
        "box.add_item(\"mung-mung-ee\")\n",
        "box.add_item(\"sae\")\n",
        "box.add_item(\"gae\")\n",
        "\n",
        "print (f\"현재 {box.name}에 있는 물건 숫자 : \", box.get_num_of_items())"
      ]
    },
    {
      "cell_type": "markdown",
      "metadata": {
        "id": "Gid0aLGUBx9D"
      },
      "source": [
        "## 클래스 상속(Class Inheritance)\n",
        "\n",
        "* 기존 클래스에 있는 속성과 메소드를 그대로 상속받아 새로운 클래스를 생성\n",
        "* 공통된 클래스를 부모로 두고 자식들이 상속받아 클래스를 생성\n",
        "* 기존 클래스에서 일부를 추가하거나 변경 가능\n",
        "\n",
        "> class childclassname(parentclassname) : "
      ]
    },
    {
      "cell_type": "code",
      "execution_count": 57,
      "metadata": {
        "id": "QFIEB2XP1XsW"
      },
      "outputs": [],
      "source": [
        "class Superclass(object) :\n",
        "    pass\n",
        "\n",
        "class Subclass(Superclass) :\n",
        "    pass"
      ]
    },
    {
      "cell_type": "markdown",
      "metadata": {
        "id": "YILvez-k05pV"
      },
      "source": [
        "### 메소드 오버라이딩(Method Overriding)\n",
        "\n",
        "* Superclass로부터 Subclass1와 Subclass2가 클래스 상속\n",
        "* 아무 내용도 없는 추상 메소드 method() 정의\n",
        "* Subclass1의 method()는 Superclass의 추상 메소드를 오버라이딩함\n"
      ]
    },
    {
      "cell_type": "code",
      "execution_count": 59,
      "metadata": {
        "id": "np_aylDHzSXs"
      },
      "outputs": [],
      "source": [
        "class Superclass(object) :\n",
        "    def method(self) : # 아무 내용이 없는 method == 추상 메소드\n",
        "        pass\n",
        "\n",
        "class Subclass1(Superclass) :\n",
        "    def method(self) :\n",
        "        print (\"overriding\")\n",
        "        \n",
        "class Subclass2(Superclass) :\n",
        "    pass"
      ]
    },
    {
      "cell_type": "code",
      "execution_count": 61,
      "metadata": {
        "id": "HCPloTpu2tJf"
      },
      "outputs": [
        {
          "name": "stdout",
          "output_type": "stream",
          "text": [
            "overriding\n"
          ]
        }
      ],
      "source": [
        "sub1 = Subclass1()\n",
        "sub2 = Subclass2()\n",
        "\n",
        "sub1.method()\n",
        "sub2.method()"
      ]
    }
  ],
  "metadata": {
    "colab": {
      "provenance": []
    },
    "kernelspec": {
      "display_name": "Python 3",
      "name": "python3"
    },
    "language_info": {
      "codemirror_mode": {
        "name": "ipython",
        "version": 3
      },
      "file_extension": ".py",
      "mimetype": "text/x-python",
      "name": "python",
      "nbconvert_exporter": "python",
      "pygments_lexer": "ipython3",
      "version": "3.11.6"
    }
  },
  "nbformat": 4,
  "nbformat_minor": 0
}
